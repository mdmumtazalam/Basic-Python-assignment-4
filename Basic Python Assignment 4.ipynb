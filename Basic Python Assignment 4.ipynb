{
 "cells": [
  {
   "cell_type": "markdown",
   "id": "f2e60bdd",
   "metadata": {},
   "source": [
    "1.\tWhat exactly is []?\n",
    "\n",
    "\n",
    "Ans:- The empty list value, which is a list value that contains no items. This is similar to how '' is the empty string value.\n"
   ]
  },
  {
   "cell_type": "markdown",
   "id": "7c739044",
   "metadata": {},
   "source": [
    "2.\tIn a list of values stored in a variable called spam, how would you assign the value 'hello' as the third value? (Assume [2, 4, 6, 8, 10] are in spam.)\n",
    "\n",
    "\n",
    "Ans:- spam[2] = 'hello' (Notice that the third value in a list is at index 2 because the first index is 0.)\n",
    "\n",
    "Let's pretend the spam includes the list ['a', 'b', 'c', 'd'] for the next three queries.\n"
   ]
  },
  {
   "cell_type": "markdown",
   "id": "419e7779",
   "metadata": {},
   "source": [
    "3.\tWhat is the value of spam[int(int('3' * 2) / 11)]?\n",
    "\n",
    "Ans:- 'd' (Note that '3' * 2 is the string '33', which is passed to int() before being divided by 11. This eventually evaluates to 3. Expressions can be used wherever values are used.)\n",
    "\n"
   ]
  },
  {
   "cell_type": "markdown",
   "id": "430a8440",
   "metadata": {},
   "source": [
    "4.\tWhat is the value of spam[-1]?\n",
    "\n",
    "\n",
    "Ans:- 'd' (Negative indexes count from the end.)\n",
    "\n",
    "\n",
    "\n",
    "5.\tWhat is the value of spam[:2]?\n",
    "\n",
    "\n",
    "Ans:- ['a', 'b']   1   [3.14, 'cat', 11, 'cat', True, 99]\n",
    "\n",
    "\n",
    "Let's pretend bacon has the list [3.14, 'cat,' 11, 'cat,' True] for the next three questions.\n"
   ]
  },
  {
   "cell_type": "markdown",
   "id": "0a673752",
   "metadata": {},
   "source": [
    "6.\tWhat is the value of bacon.index('cat')?\n",
    "\n",
    "\n",
    "Ans:- 1 ,[3.14, 'cat', 11, 'cat', True, 99]\n",
    "\n",
    "\n",
    "\n",
    "7.\tHow does bacon.append(99) change the look of the list value in bacon?\n",
    "\n",
    "\n",
    "Ans:- [3.14, 'cat', 11, 'cat', True, 99]\n",
    "\n",
    "\n",
    "8.\tHow does bacon.remove('cat') change the look of the list in bacon?\n",
    "\n",
    "\n",
    "Ans:- [3.14, 11, 'cat', True]\n",
    "\n",
    "\n",
    "9.\tWhat are the list concatenation and list replication operators?\n",
    "Ans:- The operator for list concatenation is +, while the operator for replication is *. (This is the same as for strings.)\n",
    "\n",
    "\n",
    "10.\tWhat is difference between the list methods append() and insert()?\n",
    "\n",
    "\n",
    "Ans:- While append() will add values only to the end of a list, insert() can add them anywhere in the list.\n",
    "\n",
    "\n",
    "11.\tWhat are the two methods for removing items from a list?\n",
    "\n",
    "\n",
    "Ans:-pop(),del(),remove()\n"
   ]
  },
  {
   "cell_type": "code",
   "execution_count": null,
   "id": "ee451e2e",
   "metadata": {},
   "outputs": [],
   "source": [
    "12.\tDescribe how list values and string values are identical.\n",
    "\n",
    "Ans:- list  [10, 20, 30, 40]\n"
   ]
  },
  {
   "cell_type": "code",
   "execution_count": null,
   "id": "369f054d",
   "metadata": {},
   "outputs": [],
   "source": [
    "[\"spam\", \"bungee\", \"swallow\"]\n",
    "\n",
    "String  [\"hello\", 2.0, 5, [10, 20]]\n",
    "\n",
    "The values that make up a list are called its elements. Lists are similar to strings, which are ordered collections of characters, except that the elements of a list can have any type and for any one list, the items can be of different types.\n"
   ]
  },
  {
   "cell_type": "markdown",
   "id": "6a853bca",
   "metadata": {},
   "source": [
    "13.\tWhat's the difference between tuples and lists?\n"
   ]
  },
  {
   "cell_type": "code",
   "execution_count": null,
   "id": "76221408",
   "metadata": {},
   "outputs": [],
   "source": [
    "Ans: List\n",
    "List is a container to contain different types of objects and is used to iterate objects.\n",
    "Example"
   ]
  },
  {
   "cell_type": "code",
   "execution_count": null,
   "id": "3e41995f",
   "metadata": {},
   "outputs": [],
   "source": [
    "list = ['a', 'b', 'c', 'd', 'e']"
   ]
  },
  {
   "cell_type": "markdown",
   "id": "15aea53a",
   "metadata": {},
   "source": [
    "Following are the important differences between List and Tuple.\n",
    "Sr. No.\tKey\tList\tTuple\n",
    "1\tType\tList is mutable.\tTuple is immutable.\n",
    "2\tIteration\tList iteration is slower and is time consuming.\tTuple iteration is faster.\n",
    "3\tAppropriate for\tList is useful for insertion and deletion operations.\tTuple is useful for readonly operations like accessing elements.\n",
    "4\tMemory Consumption\tList consumes more memory.\tTuples consumes less memory.\n",
    "5\tMethods\tList provides many in-built methods.\tTuples have less in-built methods.\n",
    "6\tError prone\tList operations are more error prone.\tTuples operations are safe.\n",
    "\n"
   ]
  },
  {
   "cell_type": "markdown",
   "id": "79f03648",
   "metadata": {},
   "source": [
    "14.\tHow do you type a tuple value that only contains the integer 42?\n",
    "\n",
    "\n",
    "Ans:- How do you type the tuple value that has just the integer value 42 in it? (42,) (The trailing comma is mandatory.)\n"
   ]
  },
  {
   "cell_type": "markdown",
   "id": "3b4207f5",
   "metadata": {},
   "source": [
    "15.\tHow do you get a list value's tuple form? How do you get a tuple value's list form?"
   ]
  },
  {
   "cell_type": "code",
   "execution_count": null,
   "id": "71f89af4",
   "metadata": {},
   "outputs": [],
   "source": [
    "Ans:- 1) Using tuple() builtin function\n",
    "sample_list = ['Compile', 'With', 'Favtutor']\n",
    "\n",
    "#convert list into tuple\n",
    "tuple1 = tuple(sample_list)\n",
    "\n",
    "print(tuple1)\n",
    "print(type(tuple1))\n",
    " \n",
    "Output\n",
    "('Compile', 'With', 'Favtutor')\n",
    "<class 'tuple'>\n",
    "2) Using loop inside the tuple\n",
    "sample_list = ['Compile', 'With', 'Favtutor']\n",
    "tuple1 = tuple(i for i in sample_list)\n",
    "print(tuple1)\n",
    " \n",
    "Output\n",
    "('Compile', 'With', 'Favtutor')\n",
    " \n"
   ]
  },
  {
   "cell_type": "markdown",
   "id": "4ac95170",
   "metadata": {},
   "source": [
    "16.\tVariables that \"contain\" list values are not necessarily lists themselves. Instead, what do they contain?"
   ]
  },
  {
   "cell_type": "code",
   "execution_count": null,
   "id": "33057e5f",
   "metadata": {},
   "outputs": [],
   "source": [
    "Ans:- def eggs(someParameter):\n",
    "    someParameter.append('Hello')\n",
    "\n",
    "spam = [1, 2, 3]\n",
    "eggs(spam)\n",
    "print(spam)\n",
    "[1, 2, 3, 'Hello']\n"
   ]
  },
  {
   "cell_type": "markdown",
   "id": "072e4fde",
   "metadata": {},
   "source": [
    "17.\tHow do you distinguish between copy.copy() and copy.deepcopy()?\n",
    "\n",
    "Ans:- Not sure if it mentioned above or not, but it's very importable to undestand that .copy() create reference to original object. If you change copied object - you change the original object. .deepcopy() creates new object and does real copying of original object to new one. Changing new deepcopied object doesn't affect original object.\n"
   ]
  },
  {
   "cell_type": "code",
   "execution_count": null,
   "id": "c77f7fb7",
   "metadata": {},
   "outputs": [],
   "source": [
    "And yes, .deepcopy() copies original object recursively, while .copy() create a reference object to first-level data of original object.\n",
    "\n",
    "So the copying/referencing difference between .copy() and .deepcopy() is significant.\n",
    "\n",
    "import copy\n",
    "\n",
    "a = \"deepak\"\n",
    "b = 1, 2, 3, 4\n",
    "c = [1, 2, 3, 4]\n",
    "d = {1: 10, 2: 20, 3: 30}\n",
    "\n",
    "a1 = copy.copy(a)\n",
    "b1 = copy.copy(b)\n",
    "c1 = copy.copy(c)\n",
    "d1 = copy.copy(d)\n",
    "\n",
    "\n",
    "print(\"immutable - id(a)==id(a1)\", id(a) == id(a1))\n",
    "print(\"immutable - id(b)==id(b1)\", id(b) == id(b1))\n",
    "print(\"mutable - id(c)==id(c1)\", id(c) == id(c1))\n",
    "print(\"mutable - id(d)==id(d1)\", id(d) == id(d1))\n",
    "I get the following results:\n",
    "immutable - id(a)==id(a1) True\n",
    "immutable - id(b)==id(b1) True\n",
    "mutable - id(c)==id(c1) False\n",
    "mutable - id(d)==id(d1) False\n",
    "If I perform deepcopy:\n",
    "a1 = copy.deepcopy(a)\n",
    "b1 = copy.deepcopy(b)\n",
    "c1 = copy.deepcopy(c)\n",
    "d1 = copy.deepcopy(d)\n",
    "results are the same:\n",
    "immutable - id(a)==id(a1) True\n",
    "immutable - id(b)==id(b1) True\n",
    "mutable - id(c)==id(c1) False\n",
    "mutable - id(d)==id(d1) False\n",
    "If I work on assignment operations:\n",
    "a1 = a\n",
    "b1 = b\n",
    "c1 = c\n",
    "d1 = d\n",
    "then results are:\n",
    "immutable - id(a)==id(a1) True\n",
    "immutable - id(b)==id(b1) True\n",
    "mutable - id(c)==id(c1) True\n",
    "mutable - id(d)==id(d1) True\n",
    "\n",
    "\n"
   ]
  },
  {
   "cell_type": "code",
   "execution_count": null,
   "id": "673551fa",
   "metadata": {},
   "outputs": [],
   "source": []
  }
 ],
 "metadata": {
  "kernelspec": {
   "display_name": "Python 3 (ipykernel)",
   "language": "python",
   "name": "python3"
  },
  "language_info": {
   "codemirror_mode": {
    "name": "ipython",
    "version": 3
   },
   "file_extension": ".py",
   "mimetype": "text/x-python",
   "name": "python",
   "nbconvert_exporter": "python",
   "pygments_lexer": "ipython3",
   "version": "3.9.12"
  }
 },
 "nbformat": 4,
 "nbformat_minor": 5
}
